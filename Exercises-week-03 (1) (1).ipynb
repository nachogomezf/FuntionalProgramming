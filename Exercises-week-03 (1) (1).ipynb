{
 "cells": [
  {
   "cell_type": "markdown",
   "id": "835e1f8a",
   "metadata": {},
   "source": [
    "# Exercises week 3\n",
    "\n",
    "Exercises about sections, guards and patterns. \n",
    "\n",
    "**Note**: Except for the exercise 1, you must specify the type for all the created functions. "
   ]
  },
  {
   "cell_type": "markdown",
   "id": "0f4d0f2e",
   "metadata": {},
   "source": [
    "**Exercise 1.** Define a `square` function using sections"
   ]
  },
  {
   "cell_type": "code",
   "execution_count": null,
   "id": "cf7e921b",
   "metadata": {},
   "outputs": [],
   "source": [
    "square "
   ]
  },
  {
   "cell_type": "markdown",
   "id": "5d52eb73",
   "metadata": {},
   "source": [
    "**Exercise 2.** Write a function `older name1 age1 name2 age2` that receives two names and two ages and prints who is older. Example: if we introduce `older \"Pepe\" 23  Luisa\" 18`, it must print `Pepe is older than Luisa`. If they are the same age it must print `Pepe and Luisa are the same age`."
   ]
  },
  {
   "cell_type": "code",
   "execution_count": null,
   "id": "b05fbdc6",
   "metadata": {},
   "outputs": [],
   "source": [
    "older:: \n",
    "older name1 age1 name2 age2 \n",
    " | age1 > age2\n",
    " | age1 == age2\n",
    " | otherwise \n",
    "\n",
    "-- Test code\n",
    "older \"Pepe\" 22 \"Luisa\" 18\n",
    "older \"Pepe\" 12 \"Luisa\" 18\n",
    "older \"Pepe\" 18 \"Luisa\" 18"
   ]
  },
  {
   "cell_type": "markdown",
   "id": "b4ac6096",
   "metadata": {},
   "source": [
    "**Exercise 3.**\tWrite a `ticketPrice age` function that prints on the screen the price of a cinema ticket according to the age of the customer. (a) Normal ticket: 9 Euros; (b) Children under 5: 60% discount; (c) People over 60: 55% discount; (d) Young people under 26: 20% discount. Create a version with guards and another with patterns."
   ]
  },
  {
   "cell_type": "code",
   "execution_count": null,
   "id": "759f6ebf",
   "metadata": {},
   "outputs": [
    {
     "data": {
      "text/plain": [
       "5.4"
      ]
     },
     "metadata": {},
     "output_type": "display_data"
    },
    {
     "data": {
      "text/plain": [
       "1.8000001"
      ]
     },
     "metadata": {},
     "output_type": "display_data"
    },
    {
     "data": {
      "text/plain": [
       "4.9500003"
      ]
     },
     "metadata": {},
     "output_type": "display_data"
    },
    {
     "data": {
      "text/plain": [
       "9.0"
      ]
     },
     "metadata": {},
     "output_type": "display_data"
    },
    {
     "data": {
      "text/plain": [
       "5.4"
      ]
     },
     "metadata": {},
     "output_type": "display_data"
    },
    {
     "data": {
      "text/plain": [
       "1.8000001"
      ]
     },
     "metadata": {},
     "output_type": "display_data"
    },
    {
     "data": {
      "text/plain": [
       "4.9500003"
      ]
     },
     "metadata": {},
     "output_type": "display_data"
    },
    {
     "data": {
      "text/plain": [
       "9.0"
      ]
     },
     "metadata": {},
     "output_type": "display_data"
    }
   ],
   "source": [
    "-- With guards\n",
    "ticketPrice :: Integer -> Float\n",
    "ticketPrice age\n",
    " | age < 5 = 9 * 0.6\n",
    " | age > 60 = 9 * 0.55\n",
    " | age <26 = 9 * 0.2\n",
    " | otherwise = 9\n",
    " \n",
    "\n",
    "-- Test code    \n",
    "ticketPrice 3\n",
    "ticketPrice 22\n",
    "ticketPrice 61\n",
    "ticketPrice 29\n",
    "\n",
    "-- With patterns\n",
    "ticketPrice' :: Integer -> Float\n",
    "ticketPrice' age | age <  5 = 9*0.6\n",
    "ticketPrice' age | age > 60 = 9 * 0.55\n",
    "ticketPrice' age | age < 26 = 9 * 0.2\n",
    "ticketPrice' _ = 9\n",
    "\n",
    "-- Test code\n",
    "ticketPrice' 3\n",
    "ticketPrice' 22\n",
    "ticketPrice' 61\n",
    "ticketPrice' 29"
   ]
  },
  {
   "cell_type": "markdown",
   "id": "52082a92",
   "metadata": {},
   "source": [
    "**Exercise 4.**\tCreate a function `secondsToHours seconds` receiving a number of seconds and converting it to its hours equivalent (for example 3680 seconds are 1 hour, 1 minute and 20 seconds and will be printed like 01:01:20). Notice the leading zeros. You can use auxiliary functions if needed."
   ]
  },
  {
   "cell_type": "code",
   "execution_count": null,
   "id": "864f055a",
   "metadata": {},
   "outputs": [
    {
     "data": {
      "text/html": [
       "<style>/* Styles used for the Hoogle display in the pager */\n",
       ".hoogle-doc {\n",
       "display: block;\n",
       "padding-bottom: 1.3em;\n",
       "padding-left: 0.4em;\n",
       "}\n",
       ".hoogle-code {\n",
       "display: block;\n",
       "font-family: monospace;\n",
       "white-space: pre;\n",
       "}\n",
       ".hoogle-text {\n",
       "display: block;\n",
       "}\n",
       ".hoogle-name {\n",
       "color: green;\n",
       "font-weight: bold;\n",
       "}\n",
       ".hoogle-head {\n",
       "font-weight: bold;\n",
       "}\n",
       ".hoogle-sub {\n",
       "display: block;\n",
       "margin-left: 0.4em;\n",
       "}\n",
       ".hoogle-package {\n",
       "font-weight: bold;\n",
       "font-style: italic;\n",
       "}\n",
       ".hoogle-module {\n",
       "font-weight: bold;\n",
       "}\n",
       ".hoogle-class {\n",
       "font-weight: bold;\n",
       "}\n",
       ".get-type {\n",
       "color: green;\n",
       "font-weight: bold;\n",
       "font-family: monospace;\n",
       "display: block;\n",
       "white-space: pre-wrap;\n",
       "}\n",
       ".show-type {\n",
       "color: green;\n",
       "font-weight: bold;\n",
       "font-family: monospace;\n",
       "margin-left: 1em;\n",
       "}\n",
       ".mono {\n",
       "font-family: monospace;\n",
       "display: block;\n",
       "}\n",
       ".err-msg {\n",
       "color: red;\n",
       "font-style: italic;\n",
       "font-family: monospace;\n",
       "white-space: pre;\n",
       "display: block;\n",
       "}\n",
       "#unshowable {\n",
       "color: red;\n",
       "font-weight: bold;\n",
       "}\n",
       ".err-msg.in.collapse {\n",
       "padding-top: 0.7em;\n",
       "}\n",
       ".highlight-code {\n",
       "white-space: pre;\n",
       "font-family: monospace;\n",
       "}\n",
       ".suggestion-warning { \n",
       "font-weight: bold;\n",
       "color: rgb(200, 130, 0);\n",
       "}\n",
       ".suggestion-error { \n",
       "font-weight: bold;\n",
       "color: red;\n",
       "}\n",
       ".suggestion-name {\n",
       "font-weight: bold;\n",
       "}\n",
       "</style><div class=\"suggestion-name\" style=\"clear:both;\">Redundant bracket</div><div class=\"suggestion-row\" style=\"float: left;\"><div class=\"suggestion-warning\">Found:</div><div class=\"highlight-code\" id=\"haskell\">(calcHours secs) * 3600</div></div><div class=\"suggestion-row\" style=\"float: left;\"><div class=\"suggestion-warning\">Why Not:</div><div class=\"highlight-code\" id=\"haskell\">calcHours secs * 3600</div></div><div class=\"suggestion-name\" style=\"clear:both;\">Redundant bracket</div><div class=\"suggestion-row\" style=\"float: left;\"><div class=\"suggestion-warning\">Found:</div><div class=\"highlight-code\" id=\"haskell\">(secs - (calcMinutes secs) * 60 - (calcHours secs) * 3600)</div></div><div class=\"suggestion-row\" style=\"float: left;\"><div class=\"suggestion-warning\">Why Not:</div><div class=\"highlight-code\" id=\"haskell\">secs - (calcMinutes secs) * 60 - (calcHours secs) * 3600</div></div><div class=\"suggestion-name\" style=\"clear:both;\">Redundant bracket</div><div class=\"suggestion-row\" style=\"float: left;\"><div class=\"suggestion-warning\">Found:</div><div class=\"highlight-code\" id=\"haskell\">(calcMinutes secs) * 60</div></div><div class=\"suggestion-row\" style=\"float: left;\"><div class=\"suggestion-warning\">Why Not:</div><div class=\"highlight-code\" id=\"haskell\">calcMinutes secs * 60</div></div><div class=\"suggestion-name\" style=\"clear:both;\">Redundant bracket</div><div class=\"suggestion-row\" style=\"float: left;\"><div class=\"suggestion-warning\">Found:</div><div class=\"highlight-code\" id=\"haskell\">(calcHours secs) * 3600</div></div><div class=\"suggestion-row\" style=\"float: left;\"><div class=\"suggestion-warning\">Why Not:</div><div class=\"highlight-code\" id=\"haskell\">calcHours secs * 3600</div></div>"
      ],
      "text/plain": [
       "Line 4: Redundant bracket\n",
       "Found:\n",
       "(calcHours secs) * 3600\n",
       "Why not:\n",
       "calcHours secs * 3600Line 5: Redundant bracket\n",
       "Found:\n",
       "(secs - (calcMinutes secs) * 60 - (calcHours secs) * 3600)\n",
       "Why not:\n",
       "secs - (calcMinutes secs) * 60 - (calcHours secs) * 3600Line 5: Redundant bracket\n",
       "Found:\n",
       "(calcMinutes secs) * 60\n",
       "Why not:\n",
       "calcMinutes secs * 60Line 5: Redundant bracket\n",
       "Found:\n",
       "(calcHours secs) * 3600\n",
       "Why not:\n",
       "calcHours secs * 3600"
      ]
     },
     "metadata": {},
     "output_type": "display_data"
    },
    {
     "ename": "",
     "evalue": "",
     "output_type": "error",
     "traceback": [
      "<interactive>:2:42: error:\n    • Couldn't match expected type ‘(a1 -> a1 -> a1) -> t2 -> a2’ with actual type ‘Integer’\n    • In the first argument of ‘calcHours’, namely ‘seconds’\n      In the first argument of ‘show’, namely ‘(calcHours seconds)’\n      In the first argument of ‘(++)’, namely ‘show (calcHours seconds)’\n<interactive>:2:79: error:\n    • Couldn't match expected type ‘(a0 -> a0 -> a0) -> t0 -> a3’ with actual type ‘Integer’\n    • In the first argument of ‘calcMinutes’, namely ‘seconds’\n      In the first argument of ‘show’, namely ‘(calcMinutes seconds)’\n      In the first argument of ‘(++)’, namely ‘show (calcMinutes seconds)’\n<interactive>:2:116: error:\n    • Couldn't match expected type ‘(a4 -> a4 -> a4) -> t1 -> a5’ with actual type ‘Integer’\n    • In the first argument of ‘calcSeconds’, namely ‘seconds’\n      In the first argument of ‘show’, namely ‘(calcSeconds seconds)’\n      In the second argument of ‘(++)’, namely ‘show (calcSeconds seconds)’\n<interactive>:4:28: error:\n    • Occurs check: cannot construct the infinite type: a6 ~ (a -> a -> a) -> t -> a6\n    • In the second argument of ‘(-)’, namely ‘(calcHours secs) * 3600’\n      In the expression: secs - (calcHours secs) * 3600\n      In the expression: (secs - (calcHours secs) * 3600) div 60\n    • Relevant bindings include\n        secs :: (a -> a -> a) -> t -> a6 (bound at <interactive>:4:13)\n        calcMinutes :: ((a -> a -> a) -> t -> a6) -> a6 (bound at <interactive>:4:1)\n<interactive>:5:28: error:\n    • Occurs check: cannot construct the infinite type: a6 ~ (a -> a -> a) -> t -> a6\n    • In the second argument of ‘(-)’, namely ‘(calcMinutes secs) * 60’\n      In the first argument of ‘(-)’, namely ‘secs - (calcMinutes secs) * 60’\n      In the expression: (secs - (calcMinutes secs) * 60 - (calcHours secs) * 3600)\n    • Relevant bindings include\n        secs :: (a -> a -> a) -> t -> a6 (bound at <interactive>:5:13)\n        calcSeconds :: ((a -> a -> a) -> t -> a6) -> (a -> a -> a) -> t -> a6 (bound at <interactive>:5:1)"
     ]
    }
   ],
   "source": [
    "secondsToHours :: Integer -> String\n",
    "secondsToHours seconds = show (calcHours seconds) ++ \":\" ++ show (calcMinutes seconds) ++ \":\" ++ show (calcSeconds seconds)\n",
    "calcHours secs = secs div 3600\n",
    "calcMinutes secs = (secs - calcHours secs * 3600 div 60\n",
    "calcSeconds secs = (secs - calcMinutes secs * 60 - calcHours secs * 3600)\n",
    "-- Test code\n",
    "secondsToHours 3680\n",
    "secondsToHours 265"
   ]
  },
  {
   "cell_type": "markdown",
   "id": "4c5ed778",
   "metadata": {},
   "source": [
    "**Exercise 5.**\tCreate a function `quadrant x y` that receives the coordinates of a point in a plane, i.e. two integer values, x and y, not equal to zero. The function must return the quadrant where this point lies (1st quadrant if x>0 and y>0, 2nd if x<0 and y>0, etc.) For example for (1,1) it must return: \"1st\". If x or y are zero it must print \"The values are not valid\"."
   ]
  },
  {
   "cell_type": "code",
   "execution_count": null,
   "id": "97e76cdd",
   "metadata": {},
   "outputs": [],
   "source": [
    "quadrant :: \n",
    "quadrant x y \n",
    "            \n",
    "-- Test code            \n",
    "quadrant 0 1\n",
    "quadrant 1 0\n",
    "quadrant 1 1\n",
    "quadrant (-1) 1\n",
    "quadrant (-1) (-1)\n",
    "quadrant 1 (-1)"
   ]
  },
  {
   "cell_type": "markdown",
   "id": "3d08eae7",
   "metadata": {},
   "source": [
    "**Exercise 6.**\tA year is leap-year if it is a multiple of 4, except if it is a multiple of 100. In this last case it will be leap-year only if it is also a multiple of 400. For example the year 1900 was not a leap-year, but the year 2000 was. Create a function `leapYear year ` that calculates leap years. You can use auxiliary functions if needed. Example of outputs (notice the use of past or future tense): \n",
    "\n",
    "```\n",
    "1901 was not a leap year\n",
    "2016 was a leap year\n",
    "2400 will be a leap year\n",
    "2401 will be not a leap year\n",
    "2022 is not a leap year\n",
    "```"
   ]
  },
  {
   "cell_type": "code",
   "execution_count": null,
   "id": "73117323",
   "metadata": {},
   "outputs": [],
   "source": [
    "leapYear :: \n",
    "leapYear year \n",
    "\n",
    "-- Test code\n",
    "leapYear 1901\n",
    "leapYear 2016\n",
    "leapYear 2400\n",
    "leapYear 2401\n",
    "leapYear 2022"
   ]
  },
  {
   "cell_type": "markdown",
   "id": "b1886b6a",
   "metadata": {},
   "source": [
    "**Exercise 7.**\tCreate a `money amount` function that receives as input a positive real number, which will correspond to a quantity of money, and calculates and prints the minimum number of coins for it. If the quantity of any coin is zero it must not be printed. The availabel coins are: 2€, 1€, 0.5€, 0.20€, 0.10€, 0.05€, 0.02€ and 0.01€\n",
    "\n",
    "Note: you can use the `putStr` and `putStrLn` functions along with escape sequences like `\"\\n\"` to return a string with several lines.\n",
    "\n",
    "Example, if 47.07 is introduced it should print:\n",
    "\n",
    "```\n",
    "2€: 23\n",
    "1€: 1\n",
    "0.05€: 1\n",
    "0.02€: 1\n",
    "```"
   ]
  },
  {
   "cell_type": "code",
   "execution_count": null,
   "id": "8f101b90",
   "metadata": {},
   "outputs": [],
   "source": [
    "money ::\n",
    "money amount \n",
    "\n",
    "-- Test code\n",
    "money 47.07\n",
    "money 21.09\n",
    "money 121.01"
   ]
  },
  {
   "cell_type": "markdown",
   "id": "05fac97b",
   "metadata": {},
   "source": [
    "**Exercise 8.**\tCreate a function `calculator num1 num2 operator` to simulate a calculator. It must receive two integer numbers and the operator (`+ - * / div`) and show the result. If the operator is not valid it must print `wrong operator` and finish."
   ]
  },
  {
   "cell_type": "code",
   "execution_count": null,
   "id": "3937db3c",
   "metadata": {},
   "outputs": [],
   "source": [
    "calculator ::\n",
    "calculator num1 num2 operator"
   ]
  },
  {
   "cell_type": "markdown",
   "id": "e499eef3",
   "metadata": {},
   "source": [
    "# Delivery rules\n",
    "\n",
    "Save this notebook with name `your initials-week-03.ipynb` and upload it to Aula Global before the deadline. For example, Lucía Perez Gómez will upload a file `lpg-week-03.ipynb`\n"
   ]
  }
 ],
 "metadata": {
  "kernelspec": {
   "display_name": "Python 3.10.6 64-bit",
   "language": "python",
   "name": "python3"
  },
  "language_info": {
   "codemirror_mode": "ihaskell",
   "file_extension": ".hs",
   "mimetype": "text/x-haskell",
   "name": "python",
   "pygments_lexer": "Haskell",
   "version": "3.10.6"
  },
  "vscode": {
   "interpreter": {
    "hash": "afb734500600fd355917ca529030176ea0ca205570884b88f2f6f7d791fd3fbe"
   }
  }
 },
 "nbformat": 4,
 "nbformat_minor": 5
}
